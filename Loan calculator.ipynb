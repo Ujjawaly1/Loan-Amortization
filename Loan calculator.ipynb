{
 "cells": [
  {
   "cell_type": "code",
   "execution_count": null,
   "metadata": {},
   "outputs": [],
   "source": [
    "import math\n",
    "\n",
    "def loan_amortization():\n",
    "    print(\"\\n--- Loan Amortization Calculator ---\")\n",
    "    principal = float(input(\"Enter the loan amount (principal): \"))\n",
    "    annual_interest_rate = float(input(\"Enter the annual interest rate (in %): \"))\n",
    "    years = int(input(\"Enter the loan term (in years): \"))\n",
    "\n",
    "    # Convert annual interest rate to monthly and calculate total months\n",
    "    monthly_interest_rate = annual_interest_rate / 100 / 12\n",
    "    total_months = years * 12\n",
    "\n",
    "    # Calculate monthly payment\n",
    "    if monthly_interest_rate == 0: \n",
    "        monthly_payment = principal / total_months\n",
    "    else:\n",
    "        monthly_payment = principal * (monthly_interest_rate * (1 + monthly_interest_rate) ** total_months) / \\\n",
    "                          ((1 + monthly_interest_rate) ** total_months - 1)\n",
    "\n",
    "    print(f\"\\nMonthly Payment: Rs.{monthly_payment:.2f}\\n\")\n",
    "    print(\"Amortization Schedule:\")\n",
    "\n",
    "    # Generate amortization schedule\n",
    "    balance = principal\n",
    "    for month in range(1, total_months + 1):\n",
    "        interest = balance * monthly_interest_rate\n",
    "        principal_payment = monthly_payment - interest\n",
    "        balance -= principal_payment\n",
    "        print(f\"Month {month:>3}: Payment: Rs.{monthly_payment:.2f}, Principal: Rs.{principal_payment:.2f}, \"\n",
    "              f\"Interest: Rs.{interest:.2f}, Balance: Rs.{max(0, balance):.2f}\")\n",
    "\n"
   ]
  },
  {
   "cell_type": "code",
   "execution_count": 5,
   "metadata": {},
   "outputs": [],
   "source": [
    "def investment_growth():\n",
    "    print(\"\\n--- Investment Growth Calculator ---\")\n",
    "    initial_investment = float(input(\"Enter the initial investment amount: \"))\n",
    "    annual_interest_rate = float(input(\"Enter the annual interest rate (in %): \"))\n",
    "    years = int(input(\"Enter the investment period (in years): \"))\n",
    "    compounding_frequency = int(input(\"Enter the number of times interest compounds per year: \"))\n",
    "\n",
    "    # Calculate future value\n",
    "    future_value = initial_investment * (1 + annual_interest_rate / 100 / compounding_frequency) ** \\\n",
    "                   (compounding_frequency * years)\n",
    "\n",
    "    print(f\"\\nFuture Value of Investment: Rs.{future_value:.2f}\")\n",
    "\n",
    "\n"
   ]
  },
  {
   "cell_type": "code",
   "execution_count": 6,
   "metadata": {},
   "outputs": [
    {
     "name": "stdout",
     "output_type": "stream",
     "text": [
      "\n",
      "--- Financial Calculator ---\n",
      "1. Loan Amortization\n",
      "2. Investment Growth\n",
      "3. Exit\n",
      "\n",
      "--- Loan Amortization Calculator ---\n",
      "\n",
      "Monthly Payment: Rs.8.65\n",
      "\n",
      "Amortization Schedule:\n",
      "Month   1: Payment: Rs.8.65, Principal: Rs.8.07, Interest: Rs.0.58, Balance: Rs.91.93\n",
      "Month   2: Payment: Rs.8.65, Principal: Rs.8.12, Interest: Rs.0.54, Balance: Rs.83.81\n",
      "Month   3: Payment: Rs.8.65, Principal: Rs.8.16, Interest: Rs.0.49, Balance: Rs.75.65\n",
      "Month   4: Payment: Rs.8.65, Principal: Rs.8.21, Interest: Rs.0.44, Balance: Rs.67.44\n",
      "Month   5: Payment: Rs.8.65, Principal: Rs.8.26, Interest: Rs.0.39, Balance: Rs.59.18\n",
      "Month   6: Payment: Rs.8.65, Principal: Rs.8.31, Interest: Rs.0.35, Balance: Rs.50.87\n",
      "Month   7: Payment: Rs.8.65, Principal: Rs.8.36, Interest: Rs.0.30, Balance: Rs.42.52\n",
      "Month   8: Payment: Rs.8.65, Principal: Rs.8.40, Interest: Rs.0.25, Balance: Rs.34.11\n",
      "Month   9: Payment: Rs.8.65, Principal: Rs.8.45, Interest: Rs.0.20, Balance: Rs.25.66\n",
      "Month  10: Payment: Rs.8.65, Principal: Rs.8.50, Interest: Rs.0.15, Balance: Rs.17.16\n",
      "Month  11: Payment: Rs.8.65, Principal: Rs.8.55, Interest: Rs.0.10, Balance: Rs.8.60\n",
      "Month  12: Payment: Rs.8.65, Principal: Rs.8.60, Interest: Rs.0.05, Balance: Rs.0.00\n",
      "\n",
      "--- Financial Calculator ---\n",
      "1. Loan Amortization\n",
      "2. Investment Growth\n",
      "3. Exit\n",
      "Exiting the Financial Calculator. Goodbye!\n"
     ]
    }
   ],
   "source": [
    "def main():\n",
    "    while True:\n",
    "        print(\"\\n--- Financial Calculator ---\")\n",
    "        print(\"1. Loan Amortization\")\n",
    "        print(\"2. Investment Growth\")\n",
    "        print(\"3. Exit\")\n",
    "        choice = input(\"Select an option (1/2/3): \")\n",
    "\n",
    "        if choice == '1':\n",
    "            loan_amortization()\n",
    "        elif choice == '2':\n",
    "            investment_growth()\n",
    "        elif choice == '3':\n",
    "            print(\"Exiting the Financial Calculator. Goodbye!\")\n",
    "            break\n",
    "        else:\n",
    "            print(\"Invalid choice. Please select a valid option.\")\n",
    "\n",
    "if __name__ == \"__main__\":\n",
    "    main()"
   ]
  },
  {
   "cell_type": "code",
   "execution_count": null,
   "metadata": {},
   "outputs": [],
   "source": []
  }
 ],
 "metadata": {
  "kernelspec": {
   "display_name": "base",
   "language": "python",
   "name": "python3"
  },
  "language_info": {
   "codemirror_mode": {
    "name": "ipython",
    "version": 3
   },
   "file_extension": ".py",
   "mimetype": "text/x-python",
   "name": "python",
   "nbconvert_exporter": "python",
   "pygments_lexer": "ipython3",
   "version": "3.12.4"
  }
 },
 "nbformat": 4,
 "nbformat_minor": 2
}
